{
  "nbformat": 4,
  "nbformat_minor": 0,
  "metadata": {
    "colab": {
      "provenance": []
    },
    "kernelspec": {
      "name": "python3",
      "display_name": "Python 3"
    },
    "language_info": {
      "name": "python"
    }
  },
  "cells": [
    {
      "cell_type": "code",
      "execution_count": 28,
      "metadata": {
        "id": "7i6roBw8Xsqj",
        "colab": {
          "base_uri": "https://localhost:8080/"
        },
        "outputId": "ceb33203-e9b8-4231-ed46-6584f7004284"
      },
      "outputs": [
        {
          "output_type": "stream",
          "name": "stdout",
          "text": [
            "hello world\n"
          ]
        }
      ],
      "source": [
        "print(\"hello world\")"
      ]
    },
    {
      "cell_type": "code",
      "source": [
        "print('hello wold')"
      ],
      "metadata": {
        "colab": {
          "base_uri": "https://localhost:8080/"
        },
        "id": "UXRyFXXwIQub",
        "outputId": "a405fc97-c6eb-4d9f-f330-17b122b41663"
      },
      "execution_count": 3,
      "outputs": [
        {
          "output_type": "stream",
          "name": "stdout",
          "text": [
            "hello wold\n"
          ]
        }
      ]
    },
    {
      "cell_type": "code",
      "source": [
        "print(\"hello world\");"
      ],
      "metadata": {
        "colab": {
          "base_uri": "https://localhost:8080/"
        },
        "id": "qUq4fNhjKIBm",
        "outputId": "e8c29c3c-0f17-4d6b-e41d-b5fc0bd3643a"
      },
      "execution_count": 5,
      "outputs": [
        {
          "output_type": "stream",
          "name": "stdout",
          "text": [
            "hello world\n"
          ]
        }
      ]
    },
    {
      "cell_type": "code",
      "source": [
        "print(654289)"
      ],
      "metadata": {
        "colab": {
          "base_uri": "https://localhost:8080/"
        },
        "id": "qQx5_Jx_KN6j",
        "outputId": "2024e0df-4dbd-41e7-eee0-1cbf43939c5d"
      },
      "execution_count": 6,
      "outputs": [
        {
          "output_type": "stream",
          "name": "stdout",
          "text": [
            "654289\n"
          ]
        }
      ]
    },
    {
      "cell_type": "code",
      "source": [
        "print(789281045)"
      ],
      "metadata": {
        "colab": {
          "base_uri": "https://localhost:8080/"
        },
        "id": "L71ClwozKZmb",
        "outputId": "8104073e-844c-40a6-dd6a-b31075c36871"
      },
      "execution_count": 7,
      "outputs": [
        {
          "output_type": "stream",
          "name": "stdout",
          "text": [
            "789281045\n"
          ]
        }
      ]
    },
    {
      "cell_type": "code",
      "source": [
        "print(5.5)"
      ],
      "metadata": {
        "colab": {
          "base_uri": "https://localhost:8080/"
        },
        "id": "HcqpdS8gKtGr",
        "outputId": "d3e78095-e8bc-4946-c4e7-0572d99a241d"
      },
      "execution_count": 11,
      "outputs": [
        {
          "output_type": "stream",
          "name": "stdout",
          "text": [
            "5.5\n"
          ]
        }
      ]
    },
    {
      "cell_type": "code",
      "source": [
        "print(False)"
      ],
      "metadata": {
        "colab": {
          "base_uri": "https://localhost:8080/"
        },
        "id": "DTqluuhuK1zr",
        "outputId": "04adcb04-e464-4e3f-d919-98e2018b0977"
      },
      "execution_count": 17,
      "outputs": [
        {
          "output_type": "stream",
          "name": "stdout",
          "text": [
            "False\n"
          ]
        }
      ]
    },
    {
      "cell_type": "code",
      "source": [
        "print(\"India\",\"Nepal\",\"England\",\"Pakistan\",\"Sri lanka\",\"Canada\",\"USA\",\"UAE\")"
      ],
      "metadata": {
        "colab": {
          "base_uri": "https://localhost:8080/"
        },
        "id": "otejQLM_K6Iz",
        "outputId": "e164cf04-cebb-4772-8adc-7499ffb76d84"
      },
      "execution_count": 20,
      "outputs": [
        {
          "output_type": "stream",
          "name": "stdout",
          "text": [
            "India Nepal England Pakistan Sri lanka Canada USA UAE\n"
          ]
        }
      ]
    },
    {
      "cell_type": "code",
      "source": [
        "print(\"India\",5,True)"
      ],
      "metadata": {
        "colab": {
          "base_uri": "https://localhost:8080/"
        },
        "id": "05C8oQ9TLLGK",
        "outputId": "73bf3388-b870-4a86-e294-1f801b0fa320"
      },
      "execution_count": 18,
      "outputs": [
        {
          "output_type": "stream",
          "name": "stdout",
          "text": [
            "India 5 True\n"
          ]
        }
      ]
    },
    {
      "cell_type": "code",
      "source": [
        "print(\"India\",\"Nepal\",\"England\",\"Pakistan\",\"Sri lanka\",\"Canada\",\"USA\",\"UAE\",sep='/')"
      ],
      "metadata": {
        "colab": {
          "base_uri": "https://localhost:8080/"
        },
        "id": "kYe1dzdcLxIZ",
        "outputId": "a640e019-8bec-4143-8b37-4713bbb52e7e"
      },
      "execution_count": 23,
      "outputs": [
        {
          "output_type": "stream",
          "name": "stdout",
          "text": [
            "India/Nepal/England/Pakistan/Sri lanka/Canada/USA/UAE\n"
          ]
        }
      ]
    },
    {
      "cell_type": "code",
      "source": [
        "print(\"India\",\"Nepal\",\"England\",\"Pakistan\",\"Sri lanka\",\"Canada\",\"USA\",\"UAE\",sep='-')#sep='-'\n"
      ],
      "metadata": {
        "colab": {
          "base_uri": "https://localhost:8080/"
        },
        "id": "qrKIKYq2MyJV",
        "outputId": "46a3f78f-0d49-4002-9bea-0655f1c0ee33"
      },
      "execution_count": 27,
      "outputs": [
        {
          "output_type": "stream",
          "name": "stdout",
          "text": [
            "India-Nepal-England-Pakistan-Sri lanka-Canada-USA-UAE\n"
          ]
        }
      ]
    },
    {
      "cell_type": "code",
      "source": [
        "print(\"Hello\")\n",
        "print(\"World\")"
      ],
      "metadata": {
        "colab": {
          "base_uri": "https://localhost:8080/"
        },
        "id": "Gm4tCno8NHdr",
        "outputId": "d0ce6c72-b5b5-4430-9f8b-8c0f5d50668b"
      },
      "execution_count": 24,
      "outputs": [
        {
          "output_type": "stream",
          "name": "stdout",
          "text": [
            "Hello\n",
            "World\n"
          ]
        }
      ]
    },
    {
      "cell_type": "code",
      "source": [
        "print(\"Hello\",end=\"\")\n",
        "print(\"World\")"
      ],
      "metadata": {
        "colab": {
          "base_uri": "https://localhost:8080/"
        },
        "id": "eh2ZklPoNVTE",
        "outputId": "b68190f4-d8b7-4029-dc22-6ea7afdf1a96"
      },
      "execution_count": 26,
      "outputs": [
        {
          "output_type": "stream",
          "name": "stdout",
          "text": [
            "HelloWorld\n"
          ]
        }
      ]
    },
    {
      "cell_type": "code",
      "source": [],
      "metadata": {
        "id": "1duiv7UgNlLK"
      },
      "execution_count": null,
      "outputs": []
    }
  ]
}
